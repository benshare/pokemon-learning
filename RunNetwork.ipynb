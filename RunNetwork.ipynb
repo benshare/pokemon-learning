{
 "cells": [
  {
   "cell_type": "code",
   "execution_count": 7,
   "metadata": {},
   "outputs": [
    {
     "name": "stdout",
     "output_type": "stream",
     "text": [
      "Warning: can't find 24 images!\n",
      "25 done!\n",
      "50 done!\n",
      "75 done!\n",
      "100 done!\n",
      "125 done!\n",
      "150 done!\n",
      "175 done!\n",
      "200 done!\n",
      "225 done!\n",
      "250 done!\n",
      "275 done!\n",
      "300 done!\n",
      "325 done!\n",
      "350 done!\n",
      "375 done!\n",
      "400 done!\n",
      "425 done!\n",
      "450 done!\n",
      "475 done!\n",
      "500 done!\n",
      "525 done!\n",
      "550 done!\n",
      "575 done!\n",
      "600 done!\n",
      "625 done!\n",
      "650 done!\n",
      "675 done!\n",
      "700 done!\n",
      "725 done!\n",
      "750 done!\n",
      "775 done!\n",
      "800 done!\n",
      "825 done!\n",
      "850 done!\n",
      "875 done!\n",
      "900 done!\n",
      "925 done!\n",
      "all 940 done!\n",
      "smallest: [14 15 29  4]\n",
      "largest: [299 188 234   4]\n",
      "x_train: (601, 128, 128, 4)\n",
      "x_val:   (151, 128, 128, 4)\n",
      "x_test:  (188, 128, 128, 4)\n",
      "y_train: (601,)\n",
      "y_val:   (151,)\n",
      "y_test:  (188,)\n"
     ]
    }
   ],
   "source": [
    "# Setup\n",
    "import sys\n",
    "import numpy as np\n",
    "import tensorflow as tf\n",
    "import Utils.PokemonUtils as pkmnUtils\n",
    "from matplotlib import pyplot as plt\n",
    "from Models import Baseline\n",
    "import importlib\n",
    "\n",
    "utils = pkmnUtils.PokemonUtils(rel_loc=\"\")\n",
    "utils.loadAllGIFs()\n",
    "x_train, x_val, x_test, y_train, y_val, y_test = utils.generateXYSplitsV1()\n",
    "\n",
    "USE_GPU = True\n",
    "if USE_GPU:\n",
    "    device = '/device:GPU:0'\n",
    "else:\n",
    "    device = '/cpu:0'\n",
    "\n",
    "def trainBatches(batch_size):\n",
    "    for batch in range(int(len(x_train) / batch_size)):\n",
    "        yield x_train[batch * batch_size: (batch + 1) * batch_size], y_train[batch * batch_size: (batch + 1) * batch_size]\n",
    "\n",
    "def valBatches(batch_size):\n",
    "    for batch in range(int(len(x_val) / batch_size)):\n",
    "        yield x_val[batch * batch_size: (batch + 1) * batch_size], y_val[batch * batch_size: (batch + 1) * batch_size]\n",
    "\n",
    "def testBatches(batch_size):\n",
    "    for batch in range(int(len(x_test) / batch_size)):\n",
    "        yield x_test[batch * batch_size: (batch + 1) * batch_size], y_test[batch * batch_size: (batch + 1) * batch_size]"
   ]
  },
  {
   "cell_type": "code",
   "execution_count": null,
   "metadata": {},
   "outputs": [],
   "source": [
    "# Run on PokemonUtils update\n",
    "import Utils.PokemonUtils as pkmnUtils\n",
    "importlib.reload(pkmnUtils)  # update import if PokemonUtils.py changes\n",
    "utils = pkmnUtils.PokemonUtils(utils=utils)"
   ]
  },
  {
   "cell_type": "code",
   "execution_count": 38,
   "metadata": {},
   "outputs": [
    {
     "data": {
      "text/plain": [
       "<module 'Models.Baseline' from '/home/benjaminshare/pokemon-learning/Models/Baseline.py'>"
      ]
     },
     "execution_count": 38,
     "metadata": {},
     "output_type": "execute_result"
    }
   ],
   "source": [
    "# Run on model update\n",
    "from Models import Baseline\n",
    "importlib.reload(Baseline)"
   ]
  },
  {
   "cell_type": "code",
   "execution_count": 24,
   "metadata": {},
   "outputs": [],
   "source": [
    "def check_accuracy(sess, dset, x, scores, verbose=True):\n",
    "    num_correct, num_samples = 0, 0\n",
    "    for x_batch, y_batch in dset:\n",
    "        feed_dict = {x: x_batch, is_training: 0}\n",
    "        scores_np = sess.run(scores, feed_dict=feed_dict)\n",
    "        y_pred = scores_np.argmax(axis=1)\n",
    "        num_samples += x_batch.shape[0]\n",
    "        num_correct += (y_pred == y_batch).sum()\n",
    "    acc = float(num_correct) / num_samples\n",
    "    if verbose:\n",
    "        print('Got %d / %d correct (%.2f%%)' % (num_correct, num_samples, 100 * acc))\n",
    "    return acc"
   ]
  },
  {
   "cell_type": "code",
   "execution_count": 91,
   "metadata": {},
   "outputs": [
    {
     "name": "stdout",
     "output_type": "stream",
     "text": [
      "Starting epoch 0\n",
      "Iteration 0, loss = 47.4425\n",
      "Got 11 / 144 correct (7.64%)\n",
      "\n",
      "Iteration 10, loss = 5.3585\n",
      "Got 17 / 144 correct (11.81%)\n",
      "\n",
      "Iteration 20, loss = 4.8255\n",
      "Got 18 / 144 correct (12.50%)\n",
      "\n",
      "Iteration 30, loss = 4.9528\n",
      "Got 17 / 144 correct (11.81%)\n",
      "\n",
      "Starting epoch 1\n",
      "Iteration 40, loss = 4.6947\n",
      "Got 16 / 144 correct (11.11%)\n",
      "\n",
      "Iteration 50, loss = 4.4909\n",
      "Got 17 / 144 correct (11.81%)\n",
      "\n",
      "Iteration 60, loss = 4.5060\n",
      "Got 18 / 144 correct (12.50%)\n",
      "\n",
      "Iteration 70, loss = 4.4900\n",
      "Got 16 / 144 correct (11.11%)\n",
      "\n"
     ]
    }
   ],
   "source": [
    "# Train model\n",
    "model = Baseline.ShallowNet()\n",
    "num_epochs = 2\n",
    "learning_rate = 1e-3\n",
    "batch_size = 16\n",
    "print_every = 10\n",
    "reg_weight = 0.01\n",
    "DEBUG = False\n",
    "\n",
    "tf.reset_default_graph()    \n",
    "with tf.device(device):\n",
    "    x = tf.placeholder(tf.float32, [None, 128, 128, 4])\n",
    "    y = tf.placeholder(tf.int32, [None])\n",
    "\n",
    "    is_training = tf.placeholder(tf.bool, name='is_training')\n",
    "\n",
    "    partials, scores = model.model_init_fn(x, DEBUG, reg_weight)\n",
    "\n",
    "    error_loss = tf.nn.sparse_softmax_cross_entropy_with_logits(labels=y, logits=scores)\n",
    "    reg_losses = tf.get_collection(tf.GraphKeys.REGULARIZATION_LOSSES)\n",
    "    loss = tf.reduce_mean(error_loss + sum(reg_losses))\n",
    "\n",
    "    optimizer = tf.train.GradientDescentOptimizer(learning_rate=learning_rate)\n",
    "    update_ops = tf.get_collection(tf.GraphKeys.UPDATE_OPS)\n",
    "    with tf.control_dependencies(update_ops):\n",
    "        train_op = optimizer.minimize(loss)\n",
    "\n",
    "    with tf.Session() as sess:\n",
    "        sess.run(tf.global_variables_initializer())\n",
    "        t = 0\n",
    "        acc_checks = []\n",
    "        train_accs = []\n",
    "        val_accs = []\n",
    "        err_vals = []\n",
    "        reg_vals = []\n",
    "        for epoch in range(num_epochs):\n",
    "            print('Starting epoch %d' % epoch)\n",
    "            for x_batch, y_batch in trainBatches(batch_size):\n",
    "                feed_dict = {x: x_batch, y: y_batch, is_training:1}\n",
    "                if DEBUG:\n",
    "                    loss_np, _, p0, p1, p2, p3 = sess.run([loss, train_op, partials[0], partials[1], partials[2], partials[3]], feed_dict=feed_dict)\n",
    "                    print(\"p0:\", p0.shape)\n",
    "                    print(\"p1:\", p1.shape)\n",
    "                    print(\"p2:\", p2.shape)\n",
    "                    print(\"p3:\", p3.shape)\n",
    "                else:\n",
    "                    loss_np, el, rl, _ = sess.run([loss, error_loss, reg_losses, train_op], feed_dict=feed_dict)\n",
    "                if t % print_every == 0:\n",
    "                    print('Iteration %d, loss = %.4f' % (t, loss_np))\n",
    "                    acc_checks.append(t)\n",
    "                    train_accs.append(check_accuracy(sess, trainBatches(batch_size), x, scores, verbose=False))\n",
    "                    val_accs.append(check_accuracy(sess, valBatches(batch_size), x, scores))\n",
    "                    err_vals.append(tf.reduce_mean(el).eval())\n",
    "                    reg_vals.append(sum(rl))\n",
    "                    print()\n",
    "                t += 1\n",
    "                    "
   ]
  },
  {
   "cell_type": "code",
   "execution_count": 92,
   "metadata": {},
   "outputs": [
    {
     "data": {
      "image/png": "[encoded data removed]",
      "text/plain": [
       "<matplotlib.figure.Figure at 0x7faa5c914fd0>"
      ]
     },
     "metadata": {},
     "output_type": "display_data"
    }
   ],
   "source": [
    "# Print training losses on train/val sets\n",
    "plt.figure()\n",
    "plt.scatter(acc_checks, train_accs, c='red')\n",
    "plt.scatter(acc_checks, val_accs, c='blue')\n",
    "plt.legend([\"train acc\", \"val acc\"])\n",
    "plt.savefig(\"Results/training_loss_%.2freg.jpg\" %reg_weight)"
   ]
  },
  {
   "cell_type": "code",
   "execution_count": 93,
   "metadata": {},
   "outputs": [
    {
     "data": {
      "image/png": "[encoded data removed]",
      "text/plain": [
       "<matplotlib.figure.Figure at 0x7faa5c5f6c50>"
      ]
     },
     "metadata": {},
     "output_type": "display_data"
    }
   ],
   "source": [
    "plt.figure()\n",
    "plt.scatter(acc_checks, err_vals, c='green')\n",
    "plt.scatter(acc_checks, reg_vals, c='orange')\n",
    "plt.legend([\"error loss\", \"reg loss\"])\n",
    "plt.savefig(\"Results/relative_losses_%.2freg.jpg\" %reg_weight)"
   ]
  },
  {
   "cell_type": "code",
   "execution_count": null,
   "metadata": {},
   "outputs": [],
   "source": [
    "# Test model\n",
    "acc = None\n",
    "pass\n",
    "print(acc)"
   ]
  }
 ],
 "metadata": {
  "kernelspec": {
   "display_name": "Python 3",
   "language": "python",
   "name": "python3"
  },
  "language_info": {
   "codemirror_mode": {
    "name": "ipython",
    "version": 3
   },
   "file_extension": ".py",
   "mimetype": "text/x-python",
   "name": "python",
   "nbconvert_exporter": "python",
   "pygments_lexer": "ipython3",
   "version": "3.6.4"
  }
 },
 "nbformat": 4,
 "nbformat_minor": 2
}
