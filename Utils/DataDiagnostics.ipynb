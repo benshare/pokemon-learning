{
 "cells": [
  {
   "cell_type": "code",
   "execution_count": 16,
   "metadata": {},
   "outputs": [
    {
     "name": "stdout",
     "output_type": "stream",
     "text": [
      "Warning: can't find 22 images!\n"
     ]
    }
   ],
   "source": [
    "import numpy as np\n",
    "import matplotlib.pyplot as plt\n",
    "import importlib\n",
    "import PokemonUtils as pkmnUtils\n",
    "importlib.reload(pkmnUtils)  # update import if PokemonUtils.py changes\n",
    "utils = pkmnUtils.PokemonUtils()"
   ]
  },
  {
   "cell_type": "code",
   "execution_count": 2,
   "metadata": {},
   "outputs": [
    {
     "name": "stdout",
     "output_type": "stream",
     "text": [
      "25 done!\n",
      "50 done!\n",
      "75 done!\n",
      "100 done!\n",
      "125 done!\n",
      "150 done!\n",
      "175 done!\n",
      "200 done!\n",
      "225 done!\n",
      "250 done!\n",
      "275 done!\n",
      "300 done!\n",
      "325 done!\n",
      "350 done!\n",
      "375 done!\n",
      "400 done!\n",
      "425 done!\n",
      "450 done!\n",
      "475 done!\n",
      "500 done!\n",
      "525 done!\n",
      "550 done!\n",
      "575 done!\n",
      "600 done!\n",
      "625 done!\n",
      "650 done!\n",
      "675 done!\n",
      "700 done!\n",
      "725 done!\n",
      "750 done!\n",
      "775 done!\n",
      "800 done!\n",
      "825 done!\n",
      "850 done!\n",
      "875 done!\n",
      "900 done!\n",
      "925 done!\n",
      "942 done!\n"
     ]
    }
   ],
   "source": [
    "# Collect list of all gifs (takes ~5 minutes)\n",
    "all_gifs = []\n",
    "count = 1;\n",
    "for name in utils.uniqueValidPokemonNames:\n",
    "    gif = utils.readGif(name)\n",
    "    all_gifs.append(gif)\n",
    "    if count % 25 == 0:\n",
    "        print(count, \"done!\")\n",
    "    count += 1\n",
    "print(\"all\", count-1, \"done!\")"
   ]
  },
  {
   "cell_type": "code",
   "execution_count": 34,
   "metadata": {},
   "outputs": [
    {
     "name": "stdout",
     "output_type": "stream",
     "text": [
      "ferroseed had only 1 frame\n",
      "komala had only 1 frame\n",
      "darmanitan-zen had only 1 frame\n",
      "smallest: [14 15 29  4]\n",
      "largest: [299 188 234   4]\n"
     ]
    }
   ],
   "source": [
    "# Find distribution of data sizes\n",
    "smallest = np.array([999,999,999,999])\n",
    "largest  = np.array([-1,-1,-1,-1])\n",
    "for i in range(len(all_gifs)):\n",
    "    gif = all_gifs[i]\n",
    "    cur = np.array([gif.shape[0], gif.shape[1], gif.shape[2], gif.shape[3]])\n",
    "    if (gif.shape[0] <= 1):\n",
    "        print(utils.numberToName(utils.uniqueValidIDs[i]), \"had only 1 frame\")\n",
    "        continue\n",
    "    smallest = np.minimum(cur, smallest)\n",
    "    largest  = np.maximum(cur, largest)\n",
    "print(\"smallest:\", smallest)\n",
    "print(\"largest:\", largest)"
   ]
  },
  {
   "cell_type": "code",
   "execution_count": 35,
   "metadata": {},
   "outputs": [
    {
     "data": {
      "text/plain": [
       "Text(0.5,1,'Widths')"
      ]
     },
     "execution_count": 35,
     "metadata": {},
     "output_type": "execute_result"
    },
    {
     "data": {
      "image/png": "[encoded data removed]",
      "text/plain": [
       "<Figure size 720x720 with 3 Axes>"
      ]
     },
     "metadata": {},
     "output_type": "display_data"
    }
   ],
   "source": [
    "T = []\n",
    "H = []\n",
    "W = []\n",
    "for gif in all_gifs:\n",
    "    T.append(gif.shape[0])\n",
    "    H.append(gif.shape[1])\n",
    "    W.append(gif.shape[2])\n",
    "\n",
    "plt.rcParams['figure.figsize'] = [10, 10]\n",
    "f, axarr = plt.subplots(3)\n",
    "axarr[0].hist(T, 50)\n",
    "axarr[0].set_title(\"# Frames\")\n",
    "axarr[1].hist(H, 50)\n",
    "axarr[1].set_title(\"Heights\")\n",
    "axarr[2].hist(W, 50)\n",
    "axarr[2].set_title(\"Widths\")"
   ]
  },
  {
   "cell_type": "code",
   "execution_count": 37,
   "metadata": {},
   "outputs": [
    {
     "name": "stdout",
     "output_type": "stream",
     "text": [
      "x_train: (602, 188, 234, 4)\n",
      "x_val:   (151, 188, 234, 4)\n",
      "x_test:  (189, 188, 234, 4)\n"
     ]
    }
   ],
   "source": [
    "# Make x_train, x_val, and x_test from first frame of every gif\n",
    "# Shapes: (N, H, W, C)\n",
    "x_train = np.zeros((utils.x_train_inds.shape[0], largest[1], largest[2], largest[3]), dtype='uint8')\n",
    "x_val   = np.zeros((utils.x_val_inds.shape[0],   largest[1], largest[2], largest[3]), dtype='uint8')\n",
    "x_test  = np.zeros((utils.x_test_inds.shape[0],  largest[1], largest[2], largest[3]), dtype='uint8')\n",
    "\n",
    "mats = (x_train, x_val, x_test)\n",
    "inds = (utils.x_train_inds, utils.x_val_inds, utils.x_test_inds)\n",
    "for i in range(3):\n",
    "    for n in range(mats[i].shape[0]):\n",
    "        frame = all_gifs[inds[i][n]][0,:,:,:]\n",
    "        h_diff = largest[1] - frame.shape[0]\n",
    "        w_diff = largest[2] - frame.shape[1]\n",
    "        h0 = h_diff//2\n",
    "        h1 = h_diff//2 + h_diff%2\n",
    "        w0 = w_diff//2\n",
    "        w1 = w_diff//2 + w_diff%2\n",
    "        padded = np.pad(frame, ((h0,h1),(w0,w1),(0,0)), 'constant')  # Centered on transparent bkgd\n",
    "        mats[i][n,:,:,:] = padded\n",
    "\n",
    "print(\"x_train:\", x_train.shape)\n",
    "print(\"x_val:  \", x_val.shape)\n",
    "print(\"x_test: \", x_test.shape)"
   ]
  },
  {
   "cell_type": "code",
   "execution_count": 38,
   "metadata": {},
   "outputs": [
    {
     "name": "stdout",
     "output_type": "stream",
     "text": [
      "y_train: (602,)\n",
      "y_val:   (151,)\n",
      "y_test:  (189,)\n"
     ]
    }
   ],
   "source": [
    "# Grab y_train, y_val, and y_test from utils\n",
    "# Shapes: (N,)\n",
    "y_train = utils.y_train\n",
    "y_val   = utils.y_val\n",
    "y_test  = utils.y_test\n",
    "\n",
    "print(\"y_train:\", y_train.shape)\n",
    "print(\"y_val:  \", y_val.shape)\n",
    "print(\"y_test: \", y_test.shape)"
   ]
  },
  {
   "cell_type": "code",
   "execution_count": 39,
   "metadata": {},
   "outputs": [
    {
     "name": "stdout",
     "output_type": "stream",
     "text": [
      "type: fighting\n"
     ]
    },
    {
     "data": {
      "image/png": "[encoded data removed]",
      "text/plain": [
       "<Figure size 720x720 with 1 Axes>"
      ]
     },
     "metadata": {},
     "output_type": "display_data"
    }
   ],
   "source": [
    "# Example (x,y) pair\n",
    "plt.imshow(x_train[0,:,:,:])\n",
    "print(\"type:\",utils.typeToName(y_train[0]))"
   ]
  },
  {
   "cell_type": "code",
   "execution_count": null,
   "metadata": {},
   "outputs": [],
   "source": []
  },
  {
   "cell_type": "code",
   "execution_count": null,
   "metadata": {},
   "outputs": [],
   "source": []
  }
 ],
 "metadata": {
  "kernelspec": {
   "display_name": "Python 3",
   "language": "python",
   "name": "python3"
  },
  "language_info": {
   "codemirror_mode": {
    "name": "ipython",
    "version": 3
   },
   "file_extension": ".py",
   "mimetype": "text/x-python",
   "name": "python",
   "nbconvert_exporter": "python",
   "pygments_lexer": "ipython3",
   "version": "3.6.5"
  }
 },
 "nbformat": 4,
 "nbformat_minor": 2
}
