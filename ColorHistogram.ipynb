{
 "cells": [
  {
   "cell_type": "code",
   "execution_count": 6,
   "metadata": {},
   "outputs": [
    {
     "name": "stdout",
     "output_type": "stream",
     "text": [
      "Warning: can't find 24 images!\n",
      "x_train: (6010, 128, 128, 4)\n",
      "x_val:   (1510, 128, 128, 4)\n",
      "x_test:  (1880, 128, 128, 4)\n",
      "y_train: (6010,)\n",
      "y_val:   (1510,)\n",
      "y_test:  (1880,)\n"
     ]
    }
   ],
   "source": [
    "# Setup\n",
    "import sys\n",
    "import numpy as np\n",
    "# import tensorflow as tf\n",
    "import Utils.PokemonUtils as pkmnUtils\n",
    "from matplotlib import pyplot as plt\n",
    "import importlib\n",
    "\n",
    "utils = pkmnUtils.PokemonUtils(rel_loc=\"\")\n",
    "\n",
    "# Only run if split file has not already been generated\n",
    "if False:\n",
    "    utils.loadAllGIFs()\n",
    "    \n",
    "utils.localLoadAllGifs(\"Data/SplitsV2.npz\")\n",
    "x_train, x_val, x_test, y_train, y_val, y_test = utils.getSplits()\n",
    "\n",
    "USE_GPU = False\n",
    "if USE_GPU:\n",
    "    device = '/device:GPU:0'\n",
    "else:\n",
    "    device = '/cpu:0'"
   ]
  },
  {
   "cell_type": "code",
   "execution_count": 43,
   "metadata": {},
   "outputs": [],
   "source": [
    "from matplotlib.colors import rgb_to_hsv\n",
    "\n",
    "def color_histogram_hsv(im, nbin=10, xmin=0, xmax=255, normalized=True):\n",
    "  \"\"\"\n",
    "  Compute color histogram for an image using hue.\n",
    "\n",
    "  Inputs:\n",
    "  - im: H x W x C array of pixel data for an RGB image.\n",
    "  - nbin: Number of histogram bins. (default: 10)\n",
    "  - xmin: Minimum pixel value (default: 0)\n",
    "  - xmax: Maximum pixel value (default: 255)\n",
    "  - normalized: Whether to normalize the histogram (default: True)\n",
    "\n",
    "  Returns:\n",
    "    1D vector of length nbin giving the color histogram over the hue of the\n",
    "    input image.\n",
    "  \"\"\"\n",
    "  ndim = im.ndim\n",
    "  bins = np.linspace(xmin, xmax, nbin+1)\n",
    "  hsv = rgb_to_hsv(im[:,:,0:3]/xmax) * xmax\n",
    "  imhist, bin_edges = np.histogram(hsv[:,:,0][im[:,:,3]>0], bins=bins, density=normalized)\n",
    "  imhist = imhist * np.diff(bin_edges)\n",
    "\n",
    "  # return histogram\n",
    "  return imhist"
   ]
  },
  {
   "cell_type": "code",
   "execution_count": 44,
   "metadata": {},
   "outputs": [],
   "source": [
    "def ims_to_hists(ims, nbin=10):\n",
    "    N = ims.shape[0]\n",
    "    result = np.empty((N, nbin))\n",
    "    for n in range(N):\n",
    "        result[n,:] = color_histogram_hsv(x_train[n], nbin=nbin)\n",
    "    return result"
   ]
  },
  {
   "cell_type": "code",
   "execution_count": 48,
   "metadata": {},
   "outputs": [
    {
     "name": "stdout",
     "output_type": "stream",
     "text": [
      "Done!\n",
      "Done!\n",
      "Done!\n"
     ]
    }
   ],
   "source": [
    "x_train_hist = ims_to_hists(x_train)\n",
    "print(\"Done!\")\n",
    "x_val_hist   = ims_to_hists(x_val)\n",
    "print(\"Done!\")\n",
    "x_test_hist  = ims_to_hists(x_test)\n",
    "print(\"Done!\")"
   ]
  },
  {
   "cell_type": "code",
   "execution_count": null,
   "metadata": {},
   "outputs": [],
   "source": []
  },
  {
   "cell_type": "code",
   "execution_count": null,
   "metadata": {},
   "outputs": [],
   "source": []
  }
 ],
 "metadata": {
  "kernelspec": {
   "display_name": "Python 3",
   "language": "python",
   "name": "python3"
  },
  "language_info": {
   "codemirror_mode": {
    "name": "ipython",
    "version": 3
   },
   "file_extension": ".py",
   "mimetype": "text/x-python",
   "name": "python",
   "nbconvert_exporter": "python",
   "pygments_lexer": "ipython3",
   "version": "3.6.5"
  }
 },
 "nbformat": 4,
 "nbformat_minor": 2
}
